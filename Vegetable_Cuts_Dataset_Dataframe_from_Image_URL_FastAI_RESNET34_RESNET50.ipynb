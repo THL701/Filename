{
  "nbformat": 4,
  "nbformat_minor": 0,
  "metadata": {
    "jupytext": {
      "split_at_heading": true
    },
    "kernelspec": {
      "display_name": "Python 3",
      "language": "python",
      "name": "python3"
    },
    "language_info": {
      "codemirror_mode": {
        "name": "ipython",
        "version": 3
      },
      "file_extension": ".py",
      "mimetype": "text/x-python",
      "name": "python",
      "nbconvert_exporter": "python",
      "pygments_lexer": "ipython3",
      "version": "3.7.6"
    },
    "colab": {
      "name": "Vegetable Cuts Dataset - Dataframe from Image URL- FastAI - RESNET34 / RESNET50.ipynb",
      "provenance": [],
      "collapsed_sections": [
        "XXT_gno_LYMk",
        "k55AN-4BLYM0"
      ],
      "toc_visible": true,
      "include_colab_link": true
    },
    "accelerator": "GPU",
    "widgets": {
      "application/vnd.jupyter.widget-state+json": {
        "ef6def2e2a4840948fae28c47260602b": {
          "model_module": "@jupyter-widgets/controls",
          "model_name": "HBoxModel",
          "state": {
            "_view_name": "HBoxView",
            "_dom_classes": [],
            "_model_name": "HBoxModel",
            "_view_module": "@jupyter-widgets/controls",
            "_model_module_version": "1.5.0",
            "_view_count": null,
            "_view_module_version": "1.5.0",
            "box_style": "",
            "layout": "IPY_MODEL_ee83fee0c6c84134803550e550d0fa6b",
            "_model_module": "@jupyter-widgets/controls",
            "children": [
              "IPY_MODEL_7bb0ef65c01c4ae5b36404539ed0c3aa",
              "IPY_MODEL_a4f8ad6dc8e949c986f089ce60cd80d3"
            ]
          }
        },
        "ee83fee0c6c84134803550e550d0fa6b": {
          "model_module": "@jupyter-widgets/base",
          "model_name": "LayoutModel",
          "state": {
            "_view_name": "LayoutView",
            "grid_template_rows": null,
            "right": null,
            "justify_content": null,
            "_view_module": "@jupyter-widgets/base",
            "overflow": null,
            "_model_module_version": "1.2.0",
            "_view_count": null,
            "flex_flow": null,
            "width": null,
            "min_width": null,
            "border": null,
            "align_items": null,
            "bottom": null,
            "_model_module": "@jupyter-widgets/base",
            "top": null,
            "grid_column": null,
            "overflow_y": null,
            "overflow_x": null,
            "grid_auto_flow": null,
            "grid_area": null,
            "grid_template_columns": null,
            "flex": null,
            "_model_name": "LayoutModel",
            "justify_items": null,
            "grid_row": null,
            "max_height": null,
            "align_content": null,
            "visibility": null,
            "align_self": null,
            "height": null,
            "min_height": null,
            "padding": null,
            "grid_auto_rows": null,
            "grid_gap": null,
            "max_width": null,
            "order": null,
            "_view_module_version": "1.2.0",
            "grid_template_areas": null,
            "object_position": null,
            "object_fit": null,
            "grid_auto_columns": null,
            "margin": null,
            "display": null,
            "left": null
          }
        },
        "7bb0ef65c01c4ae5b36404539ed0c3aa": {
          "model_module": "@jupyter-widgets/controls",
          "model_name": "FloatProgressModel",
          "state": {
            "_view_name": "ProgressView",
            "style": "IPY_MODEL_943ff974a74e4bc2ac1d594fa8607705",
            "_dom_classes": [],
            "description": "100%",
            "_model_name": "FloatProgressModel",
            "bar_style": "success",
            "max": 87306240,
            "_view_module": "@jupyter-widgets/controls",
            "_model_module_version": "1.5.0",
            "value": 87306240,
            "_view_count": null,
            "_view_module_version": "1.5.0",
            "orientation": "horizontal",
            "min": 0,
            "description_tooltip": null,
            "_model_module": "@jupyter-widgets/controls",
            "layout": "IPY_MODEL_240ab3af17f048aa968dbe654379c13f"
          }
        },
        "a4f8ad6dc8e949c986f089ce60cd80d3": {
          "model_module": "@jupyter-widgets/controls",
          "model_name": "HTMLModel",
          "state": {
            "_view_name": "HTMLView",
            "style": "IPY_MODEL_74153fba6d1942849eeccdd1ed7fab53",
            "_dom_classes": [],
            "description": "",
            "_model_name": "HTMLModel",
            "placeholder": "​",
            "_view_module": "@jupyter-widgets/controls",
            "_model_module_version": "1.5.0",
            "value": " 83.3M/83.3M [00:03&lt;00:00, 23.0MB/s]",
            "_view_count": null,
            "_view_module_version": "1.5.0",
            "description_tooltip": null,
            "_model_module": "@jupyter-widgets/controls",
            "layout": "IPY_MODEL_bab170556a6d4df1bbfcb656dd414c36"
          }
        },
        "943ff974a74e4bc2ac1d594fa8607705": {
          "model_module": "@jupyter-widgets/controls",
          "model_name": "ProgressStyleModel",
          "state": {
            "_view_name": "StyleView",
            "_model_name": "ProgressStyleModel",
            "description_width": "initial",
            "_view_module": "@jupyter-widgets/base",
            "_model_module_version": "1.5.0",
            "_view_count": null,
            "_view_module_version": "1.2.0",
            "bar_color": null,
            "_model_module": "@jupyter-widgets/controls"
          }
        },
        "240ab3af17f048aa968dbe654379c13f": {
          "model_module": "@jupyter-widgets/base",
          "model_name": "LayoutModel",
          "state": {
            "_view_name": "LayoutView",
            "grid_template_rows": null,
            "right": null,
            "justify_content": null,
            "_view_module": "@jupyter-widgets/base",
            "overflow": null,
            "_model_module_version": "1.2.0",
            "_view_count": null,
            "flex_flow": null,
            "width": null,
            "min_width": null,
            "border": null,
            "align_items": null,
            "bottom": null,
            "_model_module": "@jupyter-widgets/base",
            "top": null,
            "grid_column": null,
            "overflow_y": null,
            "overflow_x": null,
            "grid_auto_flow": null,
            "grid_area": null,
            "grid_template_columns": null,
            "flex": null,
            "_model_name": "LayoutModel",
            "justify_items": null,
            "grid_row": null,
            "max_height": null,
            "align_content": null,
            "visibility": null,
            "align_self": null,
            "height": null,
            "min_height": null,
            "padding": null,
            "grid_auto_rows": null,
            "grid_gap": null,
            "max_width": null,
            "order": null,
            "_view_module_version": "1.2.0",
            "grid_template_areas": null,
            "object_position": null,
            "object_fit": null,
            "grid_auto_columns": null,
            "margin": null,
            "display": null,
            "left": null
          }
        },
        "74153fba6d1942849eeccdd1ed7fab53": {
          "model_module": "@jupyter-widgets/controls",
          "model_name": "DescriptionStyleModel",
          "state": {
            "_view_name": "StyleView",
            "_model_name": "DescriptionStyleModel",
            "description_width": "",
            "_view_module": "@jupyter-widgets/base",
            "_model_module_version": "1.5.0",
            "_view_count": null,
            "_view_module_version": "1.2.0",
            "_model_module": "@jupyter-widgets/controls"
          }
        },
        "bab170556a6d4df1bbfcb656dd414c36": {
          "model_module": "@jupyter-widgets/base",
          "model_name": "LayoutModel",
          "state": {
            "_view_name": "LayoutView",
            "grid_template_rows": null,
            "right": null,
            "justify_content": null,
            "_view_module": "@jupyter-widgets/base",
            "overflow": null,
            "_model_module_version": "1.2.0",
            "_view_count": null,
            "flex_flow": null,
            "width": null,
            "min_width": null,
            "border": null,
            "align_items": null,
            "bottom": null,
            "_model_module": "@jupyter-widgets/base",
            "top": null,
            "grid_column": null,
            "overflow_y": null,
            "overflow_x": null,
            "grid_auto_flow": null,
            "grid_area": null,
            "grid_template_columns": null,
            "flex": null,
            "_model_name": "LayoutModel",
            "justify_items": null,
            "grid_row": null,
            "max_height": null,
            "align_content": null,
            "visibility": null,
            "align_self": null,
            "height": null,
            "min_height": null,
            "padding": null,
            "grid_auto_rows": null,
            "grid_gap": null,
            "max_width": null,
            "order": null,
            "_view_module_version": "1.2.0",
            "grid_template_areas": null,
            "object_position": null,
            "object_fit": null,
            "grid_auto_columns": null,
            "margin": null,
            "display": null,
            "left": null
          }
        },
        "f6c9b947fc0e4e36bf97cea09ea3fb5f": {
          "model_module": "@jupyter-widgets/controls",
          "model_name": "HBoxModel",
          "state": {
            "_view_name": "HBoxView",
            "_dom_classes": [],
            "_model_name": "HBoxModel",
            "_view_module": "@jupyter-widgets/controls",
            "_model_module_version": "1.5.0",
            "_view_count": null,
            "_view_module_version": "1.5.0",
            "box_style": "",
            "layout": "IPY_MODEL_ed863d8d70434e0196f6f4576c1d1e57",
            "_model_module": "@jupyter-widgets/controls",
            "children": [
              "IPY_MODEL_db575f2620c94b1abf532cf044f18d1a",
              "IPY_MODEL_8afa912e2b084badb0c7aa03a60e7c7b"
            ]
          }
        },
        "ed863d8d70434e0196f6f4576c1d1e57": {
          "model_module": "@jupyter-widgets/base",
          "model_name": "LayoutModel",
          "state": {
            "_view_name": "LayoutView",
            "grid_template_rows": null,
            "right": null,
            "justify_content": null,
            "_view_module": "@jupyter-widgets/base",
            "overflow": null,
            "_model_module_version": "1.2.0",
            "_view_count": null,
            "flex_flow": null,
            "width": null,
            "min_width": null,
            "border": null,
            "align_items": null,
            "bottom": null,
            "_model_module": "@jupyter-widgets/base",
            "top": null,
            "grid_column": null,
            "overflow_y": null,
            "overflow_x": null,
            "grid_auto_flow": null,
            "grid_area": null,
            "grid_template_columns": null,
            "flex": null,
            "_model_name": "LayoutModel",
            "justify_items": null,
            "grid_row": null,
            "max_height": null,
            "align_content": null,
            "visibility": null,
            "align_self": null,
            "height": null,
            "min_height": null,
            "padding": null,
            "grid_auto_rows": null,
            "grid_gap": null,
            "max_width": null,
            "order": null,
            "_view_module_version": "1.2.0",
            "grid_template_areas": null,
            "object_position": null,
            "object_fit": null,
            "grid_auto_columns": null,
            "margin": null,
            "display": null,
            "left": null
          }
        },
        "db575f2620c94b1abf532cf044f18d1a": {
          "model_module": "@jupyter-widgets/controls",
          "model_name": "FloatProgressModel",
          "state": {
            "_view_name": "ProgressView",
            "style": "IPY_MODEL_31b4f1a1969f46a481bf40a7194da59c",
            "_dom_classes": [],
            "description": "100%",
            "_model_name": "FloatProgressModel",
            "bar_style": "success",
            "max": 102502400,
            "_view_module": "@jupyter-widgets/controls",
            "_model_module_version": "1.5.0",
            "value": 102502400,
            "_view_count": null,
            "_view_module_version": "1.5.0",
            "orientation": "horizontal",
            "min": 0,
            "description_tooltip": null,
            "_model_module": "@jupyter-widgets/controls",
            "layout": "IPY_MODEL_799514ee421c427b9bc031beb73a1f5e"
          }
        },
        "8afa912e2b084badb0c7aa03a60e7c7b": {
          "model_module": "@jupyter-widgets/controls",
          "model_name": "HTMLModel",
          "state": {
            "_view_name": "HTMLView",
            "style": "IPY_MODEL_af1097131f404009af9b5f557d64f721",
            "_dom_classes": [],
            "description": "",
            "_model_name": "HTMLModel",
            "placeholder": "​",
            "_view_module": "@jupyter-widgets/controls",
            "_model_module_version": "1.5.0",
            "value": " 97.8M/97.8M [00:00&lt;00:00, 106MB/s]",
            "_view_count": null,
            "_view_module_version": "1.5.0",
            "description_tooltip": null,
            "_model_module": "@jupyter-widgets/controls",
            "layout": "IPY_MODEL_833390edb6304645805114f5409812ef"
          }
        },
        "31b4f1a1969f46a481bf40a7194da59c": {
          "model_module": "@jupyter-widgets/controls",
          "model_name": "ProgressStyleModel",
          "state": {
            "_view_name": "StyleView",
            "_model_name": "ProgressStyleModel",
            "description_width": "initial",
            "_view_module": "@jupyter-widgets/base",
            "_model_module_version": "1.5.0",
            "_view_count": null,
            "_view_module_version": "1.2.0",
            "bar_color": null,
            "_model_module": "@jupyter-widgets/controls"
          }
        },
        "799514ee421c427b9bc031beb73a1f5e": {
          "model_module": "@jupyter-widgets/base",
          "model_name": "LayoutModel",
          "state": {
            "_view_name": "LayoutView",
            "grid_template_rows": null,
            "right": null,
            "justify_content": null,
            "_view_module": "@jupyter-widgets/base",
            "overflow": null,
            "_model_module_version": "1.2.0",
            "_view_count": null,
            "flex_flow": null,
            "width": null,
            "min_width": null,
            "border": null,
            "align_items": null,
            "bottom": null,
            "_model_module": "@jupyter-widgets/base",
            "top": null,
            "grid_column": null,
            "overflow_y": null,
            "overflow_x": null,
            "grid_auto_flow": null,
            "grid_area": null,
            "grid_template_columns": null,
            "flex": null,
            "_model_name": "LayoutModel",
            "justify_items": null,
            "grid_row": null,
            "max_height": null,
            "align_content": null,
            "visibility": null,
            "align_self": null,
            "height": null,
            "min_height": null,
            "padding": null,
            "grid_auto_rows": null,
            "grid_gap": null,
            "max_width": null,
            "order": null,
            "_view_module_version": "1.2.0",
            "grid_template_areas": null,
            "object_position": null,
            "object_fit": null,
            "grid_auto_columns": null,
            "margin": null,
            "display": null,
            "left": null
          }
        },
        "af1097131f404009af9b5f557d64f721": {
          "model_module": "@jupyter-widgets/controls",
          "model_name": "DescriptionStyleModel",
          "state": {
            "_view_name": "StyleView",
            "_model_name": "DescriptionStyleModel",
            "description_width": "",
            "_view_module": "@jupyter-widgets/base",
            "_model_module_version": "1.5.0",
            "_view_count": null,
            "_view_module_version": "1.2.0",
            "_model_module": "@jupyter-widgets/controls"
          }
        },
        "833390edb6304645805114f5409812ef": {
          "model_module": "@jupyter-widgets/base",
          "model_name": "LayoutModel",
          "state": {
            "_view_name": "LayoutView",
            "grid_template_rows": null,
            "right": null,
            "justify_content": null,
            "_view_module": "@jupyter-widgets/base",
            "overflow": null,
            "_model_module_version": "1.2.0",
            "_view_count": null,
            "flex_flow": null,
            "width": null,
            "min_width": null,
            "border": null,
            "align_items": null,
            "bottom": null,
            "_model_module": "@jupyter-widgets/base",
            "top": null,
            "grid_column": null,
            "overflow_y": null,
            "overflow_x": null,
            "grid_auto_flow": null,
            "grid_area": null,
            "grid_template_columns": null,
            "flex": null,
            "_model_name": "LayoutModel",
            "justify_items": null,
            "grid_row": null,
            "max_height": null,
            "align_content": null,
            "visibility": null,
            "align_self": null,
            "height": null,
            "min_height": null,
            "padding": null,
            "grid_auto_rows": null,
            "grid_gap": null,
            "max_width": null,
            "order": null,
            "_view_module_version": "1.2.0",
            "grid_template_areas": null,
            "object_position": null,
            "object_fit": null,
            "grid_auto_columns": null,
            "margin": null,
            "display": null,
            "left": null
          }
        }
      }
    }
  },
  "cells": [
    {
      "cell_type": "markdown",
      "metadata": {
        "id": "view-in-github",
        "colab_type": "text"
      },
      "source": [
        "<a href=\"https://colab.research.google.com/github/THL701/Filename/blob/main/Vegetable_Cuts_Dataset_Dataframe_from_Image_URL_FastAI_RESNET34_RESNET50.ipynb\" target=\"_parent\"><img src=\"https://colab.research.google.com/assets/colab-badge.svg\" alt=\"Open In Colab\"/></a>"
      ]
    },
    {
      "cell_type": "markdown",
      "metadata": {
        "id": "jAlj7VqQb66e"
      },
      "source": [
        "# This notebook implements custom the 'Vegetable Cuts' Dataset with Resnet 34 and Resnet 50:\n",
        "\n",
        "Dataset 'Vegetable_Cuts': https://drive.google.com/file/d/1hvCg_t85F4nF1-9hMLDvL66qwvzyGdWo/view?usp=sharing\n",
        "\n",
        "### Quickstats for DatasetD (AKA vegetable dataset):\n",
        "1. 31 vegetable categories (including slices/diced/whole vegetables)\n",
        "2. Top1 Accuracy: Resnet 34:56%; Resnet 50: 51%\n",
        "3. Top3 Accuracy: Resnet 34: 90% Resnet 50: 87%"
      ]
    },
    {
      "cell_type": "markdown",
      "metadata": {
        "id": "6iDb4BZOcbWA"
      },
      "source": [
        "# 1. Load Dependencies"
      ]
    },
    {
      "cell_type": "code",
      "metadata": {
        "id": "hlYL9AEJLYMX",
        "colab": {
          "base_uri": "https://localhost:8080/"
        },
        "outputId": "cf1947a3-6033-4fe8-ab2f-6dcf5e8ea1e9"
      },
      "source": [
        "#hide\n",
        "!pip install -Uqq fastbook\n",
        "import fastbook\n",
        "fastbook.setup_book()"
      ],
      "execution_count": null,
      "outputs": [
        {
          "output_type": "stream",
          "text": [
            "\u001b[K     |████████████████████████████████| 727kB 12.9MB/s \n",
            "\u001b[K     |████████████████████████████████| 194kB 28.2MB/s \n",
            "\u001b[K     |████████████████████████████████| 51kB 7.5MB/s \n",
            "\u001b[K     |████████████████████████████████| 1.2MB 27.9MB/s \n",
            "\u001b[K     |████████████████████████████████| 12.8MB 55.9MB/s \n",
            "\u001b[K     |████████████████████████████████| 61kB 7.3MB/s \n",
            "\u001b[K     |████████████████████████████████| 776.8MB 23kB/s \n",
            "\u001b[K     |████████████████████████████████| 51kB 8.7MB/s \n",
            "\u001b[31mERROR: torchtext 0.9.0 has requirement torch==1.8.0, but you'll have torch 1.7.1 which is incompatible.\u001b[0m\n",
            "\u001b[?25hMounted at /content/gdrive\n"
          ],
          "name": "stdout"
        }
      ]
    },
    {
      "cell_type": "code",
      "metadata": {
        "id": "rxUrU0jaLYMc"
      },
      "source": [
        "#hide\n",
        "from fastbook import *"
      ],
      "execution_count": null,
      "outputs": []
    },
    {
      "cell_type": "code",
      "metadata": {
        "colab": {
          "base_uri": "https://localhost:8080/"
        },
        "id": "QmWl93DskZ-M",
        "outputId": "7ae796c5-2068-4991-85f8-5d80c86d3154"
      },
      "source": [
        "# Print Working Directory \n",
        "!pwd"
      ],
      "execution_count": null,
      "outputs": [
        {
          "output_type": "stream",
          "text": [
            "/content\n"
          ],
          "name": "stdout"
        }
      ]
    },
    {
      "cell_type": "code",
      "metadata": {
        "id": "LRQYYlcWXlw1"
      },
      "source": [
        "# current working directory path\n",
        "wd = os.getcwd() "
      ],
      "execution_count": null,
      "outputs": []
    },
    {
      "cell_type": "markdown",
      "metadata": {
        "id": "gNEd2hX6VSJh"
      },
      "source": [
        "### Download Data"
      ]
    },
    {
      "cell_type": "code",
      "metadata": {
        "id": "kYE4Jt5dHltA",
        "colab": {
          "base_uri": "https://localhost:8080/"
        },
        "outputId": "d9cde563-ccc5-43cf-d638-ab07860f01d9"
      },
      "source": [
        "!mkdir images"
      ],
      "execution_count": null,
      "outputs": [
        {
          "output_type": "stream",
          "text": [
            "mkdir: cannot create directory ‘images’: File exists\n"
          ],
          "name": "stdout"
        }
      ]
    },
    {
      "cell_type": "code",
      "metadata": {
        "id": "7zoEdW7at4Tq"
      },
      "source": [
        "!unzip -uq '/content/gdrive/MyDrive/vegetable_cuts_updated.zip' -d \"/content/images\""
      ],
      "execution_count": null,
      "outputs": []
    },
    {
      "cell_type": "markdown",
      "metadata": {
        "id": "313l_r4hTwZ_"
      },
      "source": [
        "### Create Dataframe"
      ]
    },
    {
      "cell_type": "code",
      "metadata": {
        "colab": {
          "base_uri": "https://localhost:8080/"
        },
        "id": "c6wUQCgKRYcU",
        "outputId": "bad50760-7e4c-4ef7-965e-4ef217490b71"
      },
      "source": [
        "# extract image_urls and label_names\n",
        "import os\n",
        "image_urls = []\n",
        "labels_dist = []\n",
        "\n",
        "path = '/content/images/vegetable_cuts'\n",
        "for f in os.listdir(path):\n",
        "  if(f!='.DS_Store'):\n",
        "    image = os.path.join(path, f)\n",
        "    image_urls.append(image)\n",
        "    f = f.split('.')[-2]\n",
        "    stemmed = ''.join([i for i in f if not i.isdigit()])\n",
        "    stemmed = stemmed.replace('()','')\n",
        "    stemmed = stemmed.strip()\n",
        "    labels_dist.append(stemmed)\n",
        "\n",
        "print(f'# of images: {len(image_urls)}')\n",
        "print(f'# of labels: {len(labels_dist)}')"
      ],
      "execution_count": null,
      "outputs": [
        {
          "output_type": "stream",
          "text": [
            "# of images: 2415\n",
            "# of labels: 2415\n"
          ],
          "name": "stdout"
        }
      ]
    },
    {
      "cell_type": "code",
      "metadata": {
        "id": "U7ucKb8NRYeq"
      },
      "source": [
        "food_labels = sorted(list(set(labels_dist)))"
      ],
      "execution_count": null,
      "outputs": []
    },
    {
      "cell_type": "code",
      "metadata": {
        "id": "4nAPmwIpRYhK"
      },
      "source": [
        "# store urls and raw labels in dataframe\n",
        "import pandas as pd\n",
        "df = pd.DataFrame(list(zip(image_urls,labels_dist)), columns = ['image_urls', 'labels_dist'])"
      ],
      "execution_count": null,
      "outputs": []
    },
    {
      "cell_type": "code",
      "metadata": {
        "colab": {
          "base_uri": "https://localhost:8080/",
          "height": 206
        },
        "id": "jDV6qulR07BK",
        "outputId": "dda88622-54e3-4447-af4c-46e9f95ce4af"
      },
      "source": [
        "df.head()"
      ],
      "execution_count": null,
      "outputs": [
        {
          "output_type": "execute_result",
          "data": {
            "text/html": [
              "<div>\n",
              "<style scoped>\n",
              "    .dataframe tbody tr th:only-of-type {\n",
              "        vertical-align: middle;\n",
              "    }\n",
              "\n",
              "    .dataframe tbody tr th {\n",
              "        vertical-align: top;\n",
              "    }\n",
              "\n",
              "    .dataframe thead th {\n",
              "        text-align: right;\n",
              "    }\n",
              "</style>\n",
              "<table border=\"1\" class=\"dataframe\">\n",
              "  <thead>\n",
              "    <tr style=\"text-align: right;\">\n",
              "      <th></th>\n",
              "      <th>image_urls</th>\n",
              "      <th>labels_dist</th>\n",
              "    </tr>\n",
              "  </thead>\n",
              "  <tbody>\n",
              "    <tr>\n",
              "      <th>0</th>\n",
              "      <td>/content/images/vegetable_cuts/mushrooms stuffed71.jpg</td>\n",
              "      <td>mushrooms stuffed</td>\n",
              "    </tr>\n",
              "    <tr>\n",
              "      <th>1</th>\n",
              "      <td>/content/images/vegetable_cuts/broccoli florets25.jpg</td>\n",
              "      <td>broccoli florets</td>\n",
              "    </tr>\n",
              "    <tr>\n",
              "      <th>2</th>\n",
              "      <td>/content/images/vegetable_cuts/mashed potatoes49.jpg</td>\n",
              "      <td>mashed potatoes</td>\n",
              "    </tr>\n",
              "    <tr>\n",
              "      <th>3</th>\n",
              "      <td>/content/images/vegetable_cuts/peppers halves19.jpg</td>\n",
              "      <td>peppers halves</td>\n",
              "    </tr>\n",
              "    <tr>\n",
              "      <th>4</th>\n",
              "      <td>/content/images/vegetable_cuts/brussels sprouts halved16.jpg</td>\n",
              "      <td>brussels sprouts halved</td>\n",
              "    </tr>\n",
              "  </tbody>\n",
              "</table>\n",
              "</div>"
            ],
            "text/plain": [
              "                                                     image_urls  \\\n",
              "0        /content/images/vegetable_cuts/mushrooms stuffed71.jpg   \n",
              "1         /content/images/vegetable_cuts/broccoli florets25.jpg   \n",
              "2          /content/images/vegetable_cuts/mashed potatoes49.jpg   \n",
              "3           /content/images/vegetable_cuts/peppers halves19.jpg   \n",
              "4  /content/images/vegetable_cuts/brussels sprouts halved16.jpg   \n",
              "\n",
              "               labels_dist  \n",
              "0        mushrooms stuffed  \n",
              "1         broccoli florets  \n",
              "2          mashed potatoes  \n",
              "3           peppers halves  \n",
              "4  brussels sprouts halved  "
            ]
          },
          "metadata": {
            "tags": []
          },
          "execution_count": 13
        }
      ]
    },
    {
      "cell_type": "code",
      "metadata": {
        "colab": {
          "base_uri": "https://localhost:8080/",
          "height": 930
        },
        "id": "b3V5GKp607Dz",
        "outputId": "36458140-c07a-4c9d-c843-24e56e6506ba"
      },
      "source": [
        "df['labels_dist'].value_counts().plot(kind='bar',figsize=(15,13))"
      ],
      "execution_count": null,
      "outputs": [
        {
          "output_type": "execute_result",
          "data": {
            "text/plain": [
              "<matplotlib.axes._subplots.AxesSubplot at 0x7f7396fa1e90>"
            ]
          },
          "metadata": {
            "tags": []
          },
          "execution_count": 14
        },
        {
          "output_type": "display_data",
          "data": {
            "image/png": "[encoded data removed]",
            "text/plain": [
              "<Figure size 1080x936 with 1 Axes>"
            ]
          },
          "metadata": {
            "tags": [],
            "needs_background": "light"
          }
        }
      ]
    },
    {
      "cell_type": "code",
      "metadata": {
        "colab": {
          "base_uri": "https://localhost:8080/",
          "height": 206
        },
        "id": "zs8VDOPR6jJt",
        "outputId": "370ae711-96cb-4140-c0ab-0d76bd6d4da8"
      },
      "source": [
        "df.head()"
      ],
      "execution_count": null,
      "outputs": [
        {
          "output_type": "execute_result",
          "data": {
            "text/html": [
              "<div>\n",
              "<style scoped>\n",
              "    .dataframe tbody tr th:only-of-type {\n",
              "        vertical-align: middle;\n",
              "    }\n",
              "\n",
              "    .dataframe tbody tr th {\n",
              "        vertical-align: top;\n",
              "    }\n",
              "\n",
              "    .dataframe thead th {\n",
              "        text-align: right;\n",
              "    }\n",
              "</style>\n",
              "<table border=\"1\" class=\"dataframe\">\n",
              "  <thead>\n",
              "    <tr style=\"text-align: right;\">\n",
              "      <th></th>\n",
              "      <th>image_urls</th>\n",
              "      <th>labels_dist</th>\n",
              "    </tr>\n",
              "  </thead>\n",
              "  <tbody>\n",
              "    <tr>\n",
              "      <th>0</th>\n",
              "      <td>/content/images/vegetable_cuts/mushrooms stuffed71.jpg</td>\n",
              "      <td>mushrooms stuffed</td>\n",
              "    </tr>\n",
              "    <tr>\n",
              "      <th>1</th>\n",
              "      <td>/content/images/vegetable_cuts/broccoli florets25.jpg</td>\n",
              "      <td>broccoli florets</td>\n",
              "    </tr>\n",
              "    <tr>\n",
              "      <th>2</th>\n",
              "      <td>/content/images/vegetable_cuts/mashed potatoes49.jpg</td>\n",
              "      <td>mashed potatoes</td>\n",
              "    </tr>\n",
              "    <tr>\n",
              "      <th>3</th>\n",
              "      <td>/content/images/vegetable_cuts/peppers halves19.jpg</td>\n",
              "      <td>peppers halves</td>\n",
              "    </tr>\n",
              "    <tr>\n",
              "      <th>4</th>\n",
              "      <td>/content/images/vegetable_cuts/brussels sprouts halved16.jpg</td>\n",
              "      <td>brussels sprouts halved</td>\n",
              "    </tr>\n",
              "  </tbody>\n",
              "</table>\n",
              "</div>"
            ],
            "text/plain": [
              "                                                     image_urls  \\\n",
              "0        /content/images/vegetable_cuts/mushrooms stuffed71.jpg   \n",
              "1         /content/images/vegetable_cuts/broccoli florets25.jpg   \n",
              "2          /content/images/vegetable_cuts/mashed potatoes49.jpg   \n",
              "3           /content/images/vegetable_cuts/peppers halves19.jpg   \n",
              "4  /content/images/vegetable_cuts/brussels sprouts halved16.jpg   \n",
              "\n",
              "               labels_dist  \n",
              "0        mushrooms stuffed  \n",
              "1         broccoli florets  \n",
              "2          mashed potatoes  \n",
              "3           peppers halves  \n",
              "4  brussels sprouts halved  "
            ]
          },
          "metadata": {
            "tags": []
          },
          "execution_count": 15
        }
      ]
    },
    {
      "cell_type": "code",
      "metadata": {
        "colab": {
          "base_uri": "https://localhost:8080/",
          "height": 423
        },
        "id": "zhaqFRMI6jPL",
        "outputId": "57009193-876c-4811-e02f-16a4fd3956b4"
      },
      "source": [
        "df"
      ],
      "execution_count": null,
      "outputs": [
        {
          "output_type": "execute_result",
          "data": {
            "text/html": [
              "<div>\n",
              "<style scoped>\n",
              "    .dataframe tbody tr th:only-of-type {\n",
              "        vertical-align: middle;\n",
              "    }\n",
              "\n",
              "    .dataframe tbody tr th {\n",
              "        vertical-align: top;\n",
              "    }\n",
              "\n",
              "    .dataframe thead th {\n",
              "        text-align: right;\n",
              "    }\n",
              "</style>\n",
              "<table border=\"1\" class=\"dataframe\">\n",
              "  <thead>\n",
              "    <tr style=\"text-align: right;\">\n",
              "      <th></th>\n",
              "      <th>image_urls</th>\n",
              "      <th>labels_dist</th>\n",
              "    </tr>\n",
              "  </thead>\n",
              "  <tbody>\n",
              "    <tr>\n",
              "      <th>0</th>\n",
              "      <td>/content/images/vegetable_cuts/mushrooms stuffed71.jpg</td>\n",
              "      <td>mushrooms stuffed</td>\n",
              "    </tr>\n",
              "    <tr>\n",
              "      <th>1</th>\n",
              "      <td>/content/images/vegetable_cuts/broccoli florets25.jpg</td>\n",
              "      <td>broccoli florets</td>\n",
              "    </tr>\n",
              "    <tr>\n",
              "      <th>2</th>\n",
              "      <td>/content/images/vegetable_cuts/mashed potatoes49.jpg</td>\n",
              "      <td>mashed potatoes</td>\n",
              "    </tr>\n",
              "    <tr>\n",
              "      <th>3</th>\n",
              "      <td>/content/images/vegetable_cuts/peppers halves19.jpg</td>\n",
              "      <td>peppers halves</td>\n",
              "    </tr>\n",
              "    <tr>\n",
              "      <th>4</th>\n",
              "      <td>/content/images/vegetable_cuts/brussels sprouts halved16.jpg</td>\n",
              "      <td>brussels sprouts halved</td>\n",
              "    </tr>\n",
              "    <tr>\n",
              "      <th>...</th>\n",
              "      <td>...</td>\n",
              "      <td>...</td>\n",
              "    </tr>\n",
              "    <tr>\n",
              "      <th>2410</th>\n",
              "      <td>/content/images/vegetable_cuts/winter squash slices27.jpg</td>\n",
              "      <td>winter squash slices</td>\n",
              "    </tr>\n",
              "    <tr>\n",
              "      <th>2411</th>\n",
              "      <td>/content/images/vegetable_cuts/mushrooms whole0.jpg</td>\n",
              "      <td>mushrooms whole</td>\n",
              "    </tr>\n",
              "    <tr>\n",
              "      <th>2412</th>\n",
              "      <td>/content/images/vegetable_cuts/tomatoes slices10.jpg</td>\n",
              "      <td>tomatoes slices</td>\n",
              "    </tr>\n",
              "    <tr>\n",
              "      <th>2413</th>\n",
              "      <td>/content/images/vegetable_cuts/mushrooms sliced7.jpg</td>\n",
              "      <td>mushrooms sliced</td>\n",
              "    </tr>\n",
              "    <tr>\n",
              "      <th>2414</th>\n",
              "      <td>/content/images/vegetable_cuts/cauliflower whole69.jpg</td>\n",
              "      <td>cauliflower whole</td>\n",
              "    </tr>\n",
              "  </tbody>\n",
              "</table>\n",
              "<p>2415 rows × 2 columns</p>\n",
              "</div>"
            ],
            "text/plain": [
              "                                                        image_urls  \\\n",
              "0           /content/images/vegetable_cuts/mushrooms stuffed71.jpg   \n",
              "1            /content/images/vegetable_cuts/broccoli florets25.jpg   \n",
              "2             /content/images/vegetable_cuts/mashed potatoes49.jpg   \n",
              "3              /content/images/vegetable_cuts/peppers halves19.jpg   \n",
              "4     /content/images/vegetable_cuts/brussels sprouts halved16.jpg   \n",
              "...                                                            ...   \n",
              "2410     /content/images/vegetable_cuts/winter squash slices27.jpg   \n",
              "2411           /content/images/vegetable_cuts/mushrooms whole0.jpg   \n",
              "2412          /content/images/vegetable_cuts/tomatoes slices10.jpg   \n",
              "2413          /content/images/vegetable_cuts/mushrooms sliced7.jpg   \n",
              "2414        /content/images/vegetable_cuts/cauliflower whole69.jpg   \n",
              "\n",
              "                  labels_dist  \n",
              "0           mushrooms stuffed  \n",
              "1            broccoli florets  \n",
              "2             mashed potatoes  \n",
              "3              peppers halves  \n",
              "4     brussels sprouts halved  \n",
              "...                       ...  \n",
              "2410     winter squash slices  \n",
              "2411          mushrooms whole  \n",
              "2412          tomatoes slices  \n",
              "2413         mushrooms sliced  \n",
              "2414        cauliflower whole  \n",
              "\n",
              "[2415 rows x 2 columns]"
            ]
          },
          "metadata": {
            "tags": []
          },
          "execution_count": 16
        }
      ]
    },
    {
      "cell_type": "markdown",
      "metadata": {
        "id": "l5-5N3uxYSdz"
      },
      "source": [
        "### Load Data"
      ]
    },
    {
      "cell_type": "markdown",
      "metadata": {
        "id": "z465_5BfLYMh"
      },
      "source": [
        "Although regular expressions can be used to label a dataset, in this case the category labels are stored in the folder name. Fastai comes with many classes to help with labeling, among which is the 'parent_label' class that we use here.  In this example we use the data block API."
      ]
    },
    {
      "cell_type": "code",
      "metadata": {
        "id": "yhGuJ_bd0N1N"
      },
      "source": [
        "dblock = DataBlock(\n",
        "                 blocks = (ImageBlock, CategoryBlock),\n",
        "                 \n",
        "                 getters=[ColReader('image_urls'),   # image input\n",
        "                          ColReader('labels_dist')], \n",
        "\n",
        "                 splitter=RandomSplitter(valid_pct=0.1, seed=42),\n",
        "                 item_tfms=Resize(460),\n",
        "                 batch_tfms=aug_transforms(size=224, min_scale=0.75))\n",
        "\n",
        "dls = dblock.dataloaders(df)"
      ],
      "execution_count": null,
      "outputs": []
    },
    {
      "cell_type": "markdown",
      "metadata": {
        "id": "mgzPanVILYMh"
      },
      "source": [
        "The following lines (included in the DataBlock) implement the fastai data augmentation method of *presizing*. Presizing is an image augmentation designed to minimize data destruction while maintaining good performance.\n",
        "\n",
        "```python\n",
        "item_tfms=Resize(460),\n",
        "batch_tfms=aug_transforms(size=224, min_scale=0.75)\n",
        "```\n",
        "\n"
      ]
    },
    {
      "cell_type": "code",
      "metadata": {
        "colab": {
          "base_uri": "https://localhost:8080/"
        },
        "id": "LEJfIsc_O493",
        "outputId": "202362e3-2845-41de-a67c-c7810773c040"
      },
      "source": [
        "# Get class names\n",
        "print(dls.vocab)\n",
        "\n",
        "# Get number of classes\n",
        "print(len(dls.vocab))"
      ],
      "execution_count": null,
      "outputs": [
        {
          "output_type": "stream",
          "text": [
            "['Diced peppers', 'Whole peppers', 'Whole tomatoes', 'asparagus spears', 'broccoli florets', 'brussels sprouts halved', 'brussels sprouts whole', 'carrots sliced', 'carrots whole', 'carrots whole\\\\', 'cauliflower florets', 'cauliflower sliced', 'cauliflower whole', 'eggplant diced', 'eggplant halves', 'eggplant whole', 'french fries', 'green beans', 'mashed potatoes', 'mushrooms sliced', 'mushrooms stuffed', 'mushrooms whole', 'peppers halves', 'peppers sliced', 'peppers stuffed', 'potatoes cubes', 'potatoes halves', 'potatoes wedges', 'potatoes whole', 'summer squash (zucchini) halves', 'summer squash (zucchini) slices', 'sweet potatoes halves', 'sweet potatoes whole', 'tomatoes slices', 'tomatoes stuffed', 'winter squash halves', 'winter squash slices']\n",
            "37\n"
          ],
          "name": "stdout"
        }
      ]
    },
    {
      "cell_type": "markdown",
      "metadata": {
        "id": "XXT_gno_LYMk"
      },
      "source": [
        "### Checking and Debugging a DataBlock"
      ]
    },
    {
      "cell_type": "code",
      "metadata": {
        "id": "5ytjVC2is8hF"
      },
      "source": [
        "# Inspect\n",
        "food.summary(\"/content/images/Images\")"
      ],
      "execution_count": null,
      "outputs": []
    },
    {
      "cell_type": "markdown",
      "metadata": {
        "id": "h0QghKl-LYMk"
      },
      "source": [
        "The fastai library also provides simple ways to check your data looks right before training a model. \n",
        "\n",
        "We can never just assume that our code is working perfectly. Writing a `DataBlock` is like writing a blueprint. You will get an error message if you have a syntax error somewhere in your code, but you have no guarantee that your template is going to work on your data source as you intend. So, check your data before training a model. You can do this using the `show_batch` method:"
      ]
    },
    {
      "cell_type": "code",
      "metadata": {
        "id": "tXeVmpUALYMk",
        "colab": {
          "base_uri": "https://localhost:8080/",
          "height": 195
        },
        "outputId": "00ece4c6-674a-45ba-e854-9f079d694521"
      },
      "source": [
        "dls.show_batch(nrows=1, ncols=3)"
      ],
      "execution_count": null,
      "outputs": [
        {
          "output_type": "display_data",
          "data": {
            "image/png": "[encoded data removed]",
            "text/plain": [
              "<Figure size 648x216 with 3 Axes>"
            ]
          },
          "metadata": {
            "tags": [],
            "needs_background": "light"
          }
        }
      ]
    },
    {
      "cell_type": "markdown",
      "metadata": {
        "id": "AG-6vJIGLYMl"
      },
      "source": [
        "Each image should have the correct label above it.  \n",
        "\n",
        "If there is a mistake in building your `DataBlock`, it likely won't be noticed before this step. To debug this, use the `summary` method. It will attempt to create a batch from the source you give it, with a lot of details. Also, if it fails, it will show at which point the error happens. \n",
        "\n",
        "For instance, one common mistake is to forget to use a `Resize` transform, so you end up with pictures of different sizes and are not able to batch them. Here is what the summary would look like in that case (note that the exact text may have changed since the time of writing, but it will give you an idea):"
      ]
    },
    {
      "cell_type": "code",
      "metadata": {
        "id": "6n7hhjjbLYMl"
      },
      "source": [
        "#hide_output\n",
        "food1 = DataBlock(blocks = (ImageBlock, CategoryBlock),\n",
        "                 get_items=get_image_files, \n",
        "                 splitter=RandomSplitter(seed=42),\n",
        "                 get_y=using_attr(RegexLabeller(r'(.+)'), 'name'))\n",
        "food1.summary(\"/content/images/Images\")"
      ],
      "execution_count": null,
      "outputs": []
    },
    {
      "cell_type": "markdown",
      "metadata": {
        "id": "jOV53yDxLYMl"
      },
      "source": [
        "You can see exactly how the data was gathered and split, how the process went from a filename to a *sample* (the tuple (image, category)), then what item transforms were applied and how it failed to collate those samples in a batch (because of the different shapes). \n"
      ]
    },
    {
      "cell_type": "markdown",
      "metadata": {
        "id": "G9uAaqdzCwIE"
      },
      "source": [
        "# Model Training"
      ]
    },
    {
      "cell_type": "markdown",
      "metadata": {
        "id": "lgsdmdB1CysC"
      },
      "source": [
        "Train a simple model at this point, to diagnose whether the data needs domain-specific engineering, or reveal any other potential issues. "
      ]
    },
    {
      "cell_type": "code",
      "metadata": {
        "colab": {
          "base_uri": "https://localhost:8080/",
          "height": 350,
          "referenced_widgets": [
            "ef6def2e2a4840948fae28c47260602b",
            "ee83fee0c6c84134803550e550d0fa6b",
            "7bb0ef65c01c4ae5b36404539ed0c3aa",
            "a4f8ad6dc8e949c986f089ce60cd80d3",
            "943ff974a74e4bc2ac1d594fa8607705",
            "240ab3af17f048aa968dbe654379c13f",
            "74153fba6d1942849eeccdd1ed7fab53",
            "bab170556a6d4df1bbfcb656dd414c36"
          ]
        },
        "id": "5_nJufugjp0E",
        "outputId": "7149a19c-c5fd-4f6d-f163-f4ffbd765547"
      },
      "source": [
        "learn = cnn_learner(dls, resnet34, metrics=error_rate)\n",
        "lr_min,lr_steep = learn.lr_find()"
      ],
      "execution_count": null,
      "outputs": [
        {
          "output_type": "stream",
          "text": [
            "Downloading: \"https://download.pytorch.org/models/resnet34-333f7ec4.pth\" to /root/.cache/torch/hub/checkpoints/resnet34-333f7ec4.pth\n"
          ],
          "name": "stderr"
        },
        {
          "output_type": "display_data",
          "data": {
            "application/vnd.jupyter.widget-view+json": {
              "model_id": "ef6def2e2a4840948fae28c47260602b",
              "version_minor": 0,
              "version_major": 2
            },
            "text/plain": [
              "HBox(children=(FloatProgress(value=0.0, max=87306240.0), HTML(value='')))"
            ]
          },
          "metadata": {
            "tags": []
          }
        },
        {
          "output_type": "stream",
          "text": [
            "\n"
          ],
          "name": "stdout"
        },
        {
          "output_type": "display_data",
          "data": {
            "text/html": [
              ""
            ],
            "text/plain": [
              "<IPython.core.display.HTML object>"
            ]
          },
          "metadata": {
            "tags": []
          }
        },
        {
          "output_type": "display_data",
          "data": {
            "image/png": "[encoded data removed]",
            "text/plain": [
              "<Figure size 432x288 with 1 Axes>"
            ]
          },
          "metadata": {
            "tags": [],
            "needs_background": "light"
          }
        }
      ]
    },
    {
      "cell_type": "code",
      "metadata": {
        "colab": {
          "base_uri": "https://localhost:8080/"
        },
        "id": "HXTR8p00khrY",
        "outputId": "baffe60e-15b2-4b9a-b2ff-6b4cadd71550"
      },
      "source": [
        "print(f\"Minimum/10: {lr_min:.2e}, steepest point: {lr_steep:.2e}\")"
      ],
      "execution_count": null,
      "outputs": [
        {
          "output_type": "stream",
          "text": [
            "Minimum/10: 1.20e-02, steepest point: 1.91e-02\n"
          ],
          "name": "stdout"
        }
      ]
    },
    {
      "cell_type": "code",
      "metadata": {
        "id": "V-W5VdhZLYMl",
        "colab": {
          "base_uri": "https://localhost:8080/",
          "height": 174
        },
        "outputId": "0d5c75e9-7ede-4b9b-b5b0-e946cabaa164"
      },
      "source": [
        "top_5 = partial(top_k_accuracy, k=5)\n",
        "learn = cnn_learner(dls, resnet34, metrics=[accuracy, top_5, error_rate])\n",
        "learn.fit_one_cycle(4, 2e-2)"
      ],
      "execution_count": null,
      "outputs": [
        {
          "output_type": "display_data",
          "data": {
            "text/html": [
              "<table border=\"1\" class=\"dataframe\">\n",
              "  <thead>\n",
              "    <tr style=\"text-align: left;\">\n",
              "      <th>epoch</th>\n",
              "      <th>train_loss</th>\n",
              "      <th>valid_loss</th>\n",
              "      <th>accuracy</th>\n",
              "      <th>top_k_accuracy</th>\n",
              "      <th>error_rate</th>\n",
              "      <th>time</th>\n",
              "    </tr>\n",
              "  </thead>\n",
              "  <tbody>\n",
              "    <tr>\n",
              "      <td>0</td>\n",
              "      <td>2.298868</td>\n",
              "      <td>4.349204</td>\n",
              "      <td>0.278008</td>\n",
              "      <td>0.618257</td>\n",
              "      <td>0.721992</td>\n",
              "      <td>00:14</td>\n",
              "    </tr>\n",
              "    <tr>\n",
              "      <td>1</td>\n",
              "      <td>2.146350</td>\n",
              "      <td>10.500619</td>\n",
              "      <td>0.053942</td>\n",
              "      <td>0.331950</td>\n",
              "      <td>0.946058</td>\n",
              "      <td>00:14</td>\n",
              "    </tr>\n",
              "    <tr>\n",
              "      <td>2</td>\n",
              "      <td>1.769274</td>\n",
              "      <td>3.304750</td>\n",
              "      <td>0.311203</td>\n",
              "      <td>0.672199</td>\n",
              "      <td>0.688797</td>\n",
              "      <td>00:14</td>\n",
              "    </tr>\n",
              "    <tr>\n",
              "      <td>3</td>\n",
              "      <td>1.287330</td>\n",
              "      <td>3.133770</td>\n",
              "      <td>0.319502</td>\n",
              "      <td>0.680498</td>\n",
              "      <td>0.680498</td>\n",
              "      <td>00:14</td>\n",
              "    </tr>\n",
              "  </tbody>\n",
              "</table>"
            ],
            "text/plain": [
              "<IPython.core.display.HTML object>"
            ]
          },
          "metadata": {
            "tags": []
          }
        }
      ]
    },
    {
      "cell_type": "code",
      "metadata": {
        "id": "-cxqQbfynyLw",
        "colab": {
          "base_uri": "https://localhost:8080/",
          "height": 175
        },
        "outputId": "dd51a5a9-603e-4fbc-991f-a3b68457f508"
      },
      "source": [
        "learn = cnn_learner(dls, resnet34, metrics=[accuracy, top_5, error_rate])\n",
        "learn.fine_tune(2, base_lr=2.5e-2)"
      ],
      "execution_count": null,
      "outputs": [
        {
          "output_type": "display_data",
          "data": {
            "text/html": [
              "<table border=\"1\" class=\"dataframe\">\n",
              "  <thead>\n",
              "    <tr style=\"text-align: left;\">\n",
              "      <th>epoch</th>\n",
              "      <th>train_loss</th>\n",
              "      <th>valid_loss</th>\n",
              "      <th>accuracy</th>\n",
              "      <th>top_k_accuracy</th>\n",
              "      <th>error_rate</th>\n",
              "      <th>time</th>\n",
              "    </tr>\n",
              "  </thead>\n",
              "  <tbody>\n",
              "    <tr>\n",
              "      <td>0</td>\n",
              "      <td>2.266287</td>\n",
              "      <td>2.414534</td>\n",
              "      <td>0.456432</td>\n",
              "      <td>0.863071</td>\n",
              "      <td>0.543568</td>\n",
              "      <td>00:14</td>\n",
              "    </tr>\n",
              "  </tbody>\n",
              "</table>"
            ],
            "text/plain": [
              "<IPython.core.display.HTML object>"
            ]
          },
          "metadata": {
            "tags": []
          }
        },
        {
          "output_type": "display_data",
          "data": {
            "text/html": [
              "<table border=\"1\" class=\"dataframe\">\n",
              "  <thead>\n",
              "    <tr style=\"text-align: left;\">\n",
              "      <th>epoch</th>\n",
              "      <th>train_loss</th>\n",
              "      <th>valid_loss</th>\n",
              "      <th>accuracy</th>\n",
              "      <th>top_k_accuracy</th>\n",
              "      <th>error_rate</th>\n",
              "      <th>time</th>\n",
              "    </tr>\n",
              "  </thead>\n",
              "  <tbody>\n",
              "    <tr>\n",
              "      <td>0</td>\n",
              "      <td>1.979876</td>\n",
              "      <td>6.147450</td>\n",
              "      <td>0.298755</td>\n",
              "      <td>0.692946</td>\n",
              "      <td>0.701245</td>\n",
              "      <td>00:15</td>\n",
              "    </tr>\n",
              "    <tr>\n",
              "      <td>1</td>\n",
              "      <td>1.575000</td>\n",
              "      <td>2.396079</td>\n",
              "      <td>0.381743</td>\n",
              "      <td>0.697095</td>\n",
              "      <td>0.618257</td>\n",
              "      <td>00:15</td>\n",
              "    </tr>\n",
              "  </tbody>\n",
              "</table>"
            ],
            "text/plain": [
              "<IPython.core.display.HTML object>"
            ]
          },
          "metadata": {
            "tags": []
          }
        }
      ]
    },
    {
      "cell_type": "code",
      "metadata": {
        "id": "_L8yUEvAN4JR",
        "colab": {
          "base_uri": "https://localhost:8080/",
          "height": 300
        },
        "outputId": "be029c4a-3446-4055-dc83-1aa38f9df47a"
      },
      "source": [
        "learn = cnn_learner(dls, resnet34, metrics=[accuracy, top_5, error_rate])\n",
        "learn.fine_tune(6)"
      ],
      "execution_count": null,
      "outputs": [
        {
          "output_type": "display_data",
          "data": {
            "text/html": [
              "<table border=\"1\" class=\"dataframe\">\n",
              "  <thead>\n",
              "    <tr style=\"text-align: left;\">\n",
              "      <th>epoch</th>\n",
              "      <th>train_loss</th>\n",
              "      <th>valid_loss</th>\n",
              "      <th>accuracy</th>\n",
              "      <th>top_k_accuracy</th>\n",
              "      <th>error_rate</th>\n",
              "      <th>time</th>\n",
              "    </tr>\n",
              "  </thead>\n",
              "  <tbody>\n",
              "    <tr>\n",
              "      <td>0</td>\n",
              "      <td>3.718560</td>\n",
              "      <td>2.206743</td>\n",
              "      <td>0.385892</td>\n",
              "      <td>0.717842</td>\n",
              "      <td>0.614108</td>\n",
              "      <td>00:14</td>\n",
              "    </tr>\n",
              "  </tbody>\n",
              "</table>"
            ],
            "text/plain": [
              "<IPython.core.display.HTML object>"
            ]
          },
          "metadata": {
            "tags": []
          }
        },
        {
          "output_type": "display_data",
          "data": {
            "text/html": [
              "<table border=\"1\" class=\"dataframe\">\n",
              "  <thead>\n",
              "    <tr style=\"text-align: left;\">\n",
              "      <th>epoch</th>\n",
              "      <th>train_loss</th>\n",
              "      <th>valid_loss</th>\n",
              "      <th>accuracy</th>\n",
              "      <th>top_k_accuracy</th>\n",
              "      <th>error_rate</th>\n",
              "      <th>time</th>\n",
              "    </tr>\n",
              "  </thead>\n",
              "  <tbody>\n",
              "    <tr>\n",
              "      <td>0</td>\n",
              "      <td>1.474725</td>\n",
              "      <td>1.840514</td>\n",
              "      <td>0.468880</td>\n",
              "      <td>0.809129</td>\n",
              "      <td>0.531120</td>\n",
              "      <td>00:15</td>\n",
              "    </tr>\n",
              "    <tr>\n",
              "      <td>1</td>\n",
              "      <td>1.079241</td>\n",
              "      <td>1.556626</td>\n",
              "      <td>0.531120</td>\n",
              "      <td>0.883817</td>\n",
              "      <td>0.468880</td>\n",
              "      <td>00:15</td>\n",
              "    </tr>\n",
              "    <tr>\n",
              "      <td>2</td>\n",
              "      <td>0.789847</td>\n",
              "      <td>1.598475</td>\n",
              "      <td>0.535270</td>\n",
              "      <td>0.883817</td>\n",
              "      <td>0.464730</td>\n",
              "      <td>00:15</td>\n",
              "    </tr>\n",
              "    <tr>\n",
              "      <td>3</td>\n",
              "      <td>0.574830</td>\n",
              "      <td>1.456663</td>\n",
              "      <td>0.547718</td>\n",
              "      <td>0.908714</td>\n",
              "      <td>0.452282</td>\n",
              "      <td>00:15</td>\n",
              "    </tr>\n",
              "    <tr>\n",
              "      <td>4</td>\n",
              "      <td>0.430501</td>\n",
              "      <td>1.386084</td>\n",
              "      <td>0.560166</td>\n",
              "      <td>0.908714</td>\n",
              "      <td>0.439834</td>\n",
              "      <td>00:15</td>\n",
              "    </tr>\n",
              "    <tr>\n",
              "      <td>5</td>\n",
              "      <td>0.329337</td>\n",
              "      <td>1.409032</td>\n",
              "      <td>0.531120</td>\n",
              "      <td>0.912863</td>\n",
              "      <td>0.468880</td>\n",
              "      <td>00:15</td>\n",
              "    </tr>\n",
              "  </tbody>\n",
              "</table>"
            ],
            "text/plain": [
              "<IPython.core.display.HTML object>"
            ]
          },
          "metadata": {
            "tags": []
          }
        }
      ]
    },
    {
      "cell_type": "code",
      "metadata": {
        "id": "Ikp6zzEUoL_V",
        "colab": {
          "base_uri": "https://localhost:8080/"
        },
        "outputId": "b3163a7a-9b5e-4030-a7e8-2fb543bb434a"
      },
      "source": [
        "learn.fit"
      ],
      "execution_count": null,
      "outputs": [
        {
          "output_type": "execute_result",
          "data": {
            "text/plain": [
              "<bound method Learner.fit of <fastai.learner.Learner object at 0x7f736e267950>>"
            ]
          },
          "metadata": {
            "tags": []
          },
          "execution_count": 24
        }
      ]
    },
    {
      "cell_type": "markdown",
      "metadata": {
        "id": "KgoYW_j0LYMm"
      },
      "source": [
        "The table shows the results after each epoch of training (after one complete pass through all of the images in the data.) The columns shown are the average loss over the items of the training set, the loss on the validation set, and any metrics requested—in this case, the error rate.\n",
        "\n",
        "*loss* is the function chosen to optimize the parameters of our model. Fastai will generally try to select an appropriate loss function based on the data and model. In this case we have image data and a categorical outcome; fastai will default to using *cross-entropy loss*."
      ]
    },
    {
      "cell_type": "markdown",
      "metadata": {
        "id": "8ZDt75OSLYMm"
      },
      "source": [
        "## Cross-Entropy Loss"
      ]
    },
    {
      "cell_type": "markdown",
      "metadata": {
        "id": "vc-nUsexLYMm"
      },
      "source": [
        "*Cross-entropy loss* is a loss function that has two benefits:\n",
        "\n",
        "- It works even when our dependent variable has more than two categories.\n",
        "- It results in faster and more reliable training.\n"
      ]
    },
    {
      "cell_type": "markdown",
      "metadata": {
        "id": "eK9XV8hRLYMm"
      },
      "source": [
        "### Viewing Activations and Labels"
      ]
    },
    {
      "cell_type": "markdown",
      "metadata": {
        "id": "-9519pUVLYMm"
      },
      "source": [
        "View the activations of the model. To get a batch of real data from our `DataLoaders`, we can use the `one_batch` method:"
      ]
    },
    {
      "cell_type": "code",
      "metadata": {
        "id": "9EOUMLEuLYMm"
      },
      "source": [
        "x,y = dls.one_batch()"
      ],
      "execution_count": null,
      "outputs": []
    },
    {
      "cell_type": "markdown",
      "metadata": {
        "id": "N6cTwut7LYMm"
      },
      "source": [
        "This returns the dependent and independent variables, as a mini-batch. Let's examine what is contained in our dependent variable:"
      ]
    },
    {
      "cell_type": "code",
      "metadata": {
        "id": "VSCze3DQLYMn",
        "colab": {
          "base_uri": "https://localhost:8080/"
        },
        "outputId": "74517d64-1132-431c-91f1-56020e69c6b9"
      },
      "source": [
        "y"
      ],
      "execution_count": null,
      "outputs": [
        {
          "output_type": "execute_result",
          "data": {
            "text/plain": [
              "TensorCategory([ 8, 18, 18, 10, 33, 33, 35, 34,  8,  3, 34, 14, 34, 17, 27, 27, 18, 20, 14, 20, 27,  5,  0, 12,  1,  5, 27, 25, 20, 28, 25, 34, 35, 36, 11, 13, 14, 24,  4, 23, 19, 11, 18,  0, 16,  8, 18,  5,\n",
              "         3, 34, 24,  4, 24, 20, 20, 28,  5, 26, 36, 11, 10, 33, 30,  1], device='cuda:0')"
            ]
          },
          "metadata": {
            "tags": []
          },
          "execution_count": 26
        }
      ]
    },
    {
      "cell_type": "markdown",
      "metadata": {
        "id": "uO2PJ_JuLYMn"
      },
      "source": [
        "Our batch size is X, so we have X rows in this tensor. Each row is a single integer between 0 and 36, representing our XX possible pet breeds (categories of food). We can view the predictions (that is, the activations of the final layer of our neural network) using `Learner.get_preds`. This function either takes a dataset index (0 for train and 1 for valid) or an iterator of batches. Thus, we can pass it a simple list with our batch to get our predictions. It returns predictions and targets by default, but since we already have the targets, we can effectively ignore them by assigning to the special variable `_`:"
      ]
    },
    {
      "cell_type": "code",
      "metadata": {
        "id": "ND8qMktdLYMn",
        "colab": {
          "base_uri": "https://localhost:8080/",
          "height": 90
        },
        "outputId": "ddc4d9d3-160a-462b-da8e-124bd81ecfd2"
      },
      "source": [
        "preds,_ = learn.get_preds(dl=[(x,y)])\n",
        "preds[0]"
      ],
      "execution_count": null,
      "outputs": [
        {
          "output_type": "display_data",
          "data": {
            "text/html": [
              ""
            ],
            "text/plain": [
              "<IPython.core.display.HTML object>"
            ]
          },
          "metadata": {
            "tags": []
          }
        },
        {
          "output_type": "execute_result",
          "data": {
            "text/plain": [
              "tensor([1.2431e-05, 7.7261e-05, 1.5494e-06, 1.7748e-04, 1.7028e-06, 9.7846e-07, 1.7468e-06, 1.4496e-04, 9.9924e-01, 8.5567e-07, 3.4532e-07, 2.2634e-07, 2.5811e-07, 2.2407e-06, 1.5629e-07, 1.7910e-06,\n",
              "        2.5735e-05, 1.6498e-05, 1.0043e-06, 1.7025e-07, 7.3544e-08, 3.9071e-06, 9.1166e-06, 2.3987e-06, 4.2892e-06, 6.0648e-07, 1.5252e-07, 1.5225e-05, 1.8304e-06, 2.0464e-04, 4.2237e-05, 9.2774e-07,\n",
              "        4.2568e-06, 9.5580e-07, 2.5991e-07, 2.2930e-06, 2.2902e-06])"
            ]
          },
          "metadata": {
            "tags": []
          },
          "execution_count": 27
        }
      ]
    },
    {
      "cell_type": "markdown",
      "metadata": {
        "id": "vtv8hJT_LYMn"
      },
      "source": [
        "The predictions are [number of categories] probabilities between 0 and 1, which add up to 1 in total:"
      ]
    },
    {
      "cell_type": "code",
      "metadata": {
        "id": "jlLmYtc3LYMn",
        "colab": {
          "base_uri": "https://localhost:8080/"
        },
        "outputId": "514b116c-dde8-4f73-b685-b06a72dfb726"
      },
      "source": [
        "len(preds[0]),preds[0].sum()"
      ],
      "execution_count": null,
      "outputs": [
        {
          "output_type": "execute_result",
          "data": {
            "text/plain": [
              "(37, tensor(1.0000))"
            ]
          },
          "metadata": {
            "tags": []
          },
          "execution_count": 28
        }
      ]
    },
    {
      "cell_type": "markdown",
      "metadata": {
        "id": "nie225puLYMn"
      },
      "source": [
        "To transform the activations of our model into predictions, we used the *softmax* activation function."
      ]
    },
    {
      "cell_type": "markdown",
      "metadata": {
        "id": "5UF5tfYSLYMu"
      },
      "source": [
        "## Model Interpretation"
      ]
    },
    {
      "cell_type": "code",
      "metadata": {
        "id": "D2jPaUcULYMv",
        "colab": {
          "base_uri": "https://localhost:8080/",
          "height": 743
        },
        "outputId": "9c830424-94d7-42d7-9d28-1a2bb51616e2"
      },
      "source": [
        "# Confusion Matrix\n",
        "#width 600\n",
        "interp = ClassificationInterpretation.from_learner(learn)\n",
        "interp.plot_confusion_matrix(figsize=(12,12), dpi=60)"
      ],
      "execution_count": null,
      "outputs": [
        {
          "output_type": "display_data",
          "data": {
            "text/html": [
              ""
            ],
            "text/plain": [
              "<IPython.core.display.HTML object>"
            ]
          },
          "metadata": {
            "tags": []
          }
        },
        {
          "output_type": "display_data",
          "data": {
            "image/png": "[encoded data removed]",
            "text/plain": [
              "<Figure size 720x720 with 1 Axes>"
            ]
          },
          "metadata": {
            "tags": [],
            "needs_background": "light"
          }
        }
      ]
    },
    {
      "cell_type": "markdown",
      "metadata": {
        "id": "KNfPsw3CLYMv"
      },
      "source": [
        "The `most_confused` method shows the cells of the confusion matrix with the most incorrect predictions (here, with at least 5 or more):"
      ]
    },
    {
      "cell_type": "code",
      "metadata": {
        "id": "jDLwSXNaLYMv",
        "colab": {
          "base_uri": "https://localhost:8080/"
        },
        "outputId": "426f8a25-b3ca-4d97-ee80-bfa8e9edd592"
      },
      "source": [
        "interp.most_confused(min_val=5)"
      ],
      "execution_count": null,
      "outputs": [
        {
          "output_type": "execute_result",
          "data": {
            "text/plain": [
              "[('brussels sprouts whole', 'brussels sprouts halved', 8),\n",
              " ('peppers halves', 'peppers sliced', 5)]"
            ]
          },
          "metadata": {
            "tags": []
          },
          "execution_count": 30
        }
      ]
    },
    {
      "cell_type": "markdown",
      "metadata": {
        "id": "nFEClJDGLYMv"
      },
      "source": [
        "## Improving the Model"
      ]
    },
    {
      "cell_type": "markdown",
      "metadata": {
        "id": "YqFeY6DYLYMx"
      },
      "source": [
        "### Unfreezing and Transfer Learning"
      ]
    },
    {
      "cell_type": "markdown",
      "metadata": {
        "id": "obwkAYdQLYMx"
      },
      "source": [
        "Pretrained models are trained on millions of data points (such as ImageNet), fine-tuned for a specific task. \n",
        "\n",
        "A convolutional neural network consists of many linear layers with a nonlinear activation function between each pair, followed by one or more final linear layers with an activation function such as softmax at the end. The final linear layer uses a matrix with the number columns such that the output size is equal to the number of classes in the model (for classification).\n",
        "\n",
        "The final linear layer is unlikely to be useful when fine-tuning in a transfer learning setting, because it is specifically designed to classify the categories in the original pretraining dataset. So it is removed when doing transfer learning, and replaced with a linear layer with the correct number of outputs for the task.\n",
        "\n",
        "This newly added linear layer has random weights; thus, our model prior to fine-tuning has random outputs. But, all layers prior to the last one are trained to be good at image classification in general. \n",
        "\n",
        "The challenge when fine-tuning is to replace the random weights in our added linear layers with weights that correctly achieve our desired task without breaking the carefully pretrained weights and the other layers. The do this, we want to train a model, but allow it to remember the useful aspects of the pretrained model, use them to solve our particular task, and only adjust them as required for the specifics of our case.\n",
        "\n",
        "To do this, we allow the optimizer to only update the weights in the randomly added final layers ~ without changing the weights in the rest of the neural network at all. This is called *freezing* the pretrained layers."
      ]
    },
    {
      "cell_type": "markdown",
      "metadata": {
        "id": "s2W8AXUkLYMx"
      },
      "source": [
        "When creating a model from a pretrained network fastai automatically freezes all of the pretrained layers. The FastAI `fine_tune` method does two things:\n",
        "\n",
        "- Trains the randomly added layers for one epoch, with all other layers frozen\n",
        "- Unfreezes all of the layers, and trains them all for the number of epochs requested\n",
        "\n",
        "Although this is a reasonable default approach, it is likely that for any particular dataset, better results can be achieved by doing things slightly differently. The `fine_tune` method has a number of parameters to change its behavior.  However, it might be easiest to call the underlying methods directly to get custom behavior. Remember that you can see the source code for the method by using the following syntax:\n",
        "\n",
        "    learn.fine_tune??\n",
        "\n",
        "To do this manually, we train the randomly added layers for three epochs, using `fit_one_cycle`, which is the suggested way to train models without using `fine_tune`. \n",
        "\n",
        "`fit_one_cycle` starts training at a low learning rate, gradually increase it for the first section of training, and then gradually decrease it again for the last section of training."
      ]
    },
    {
      "cell_type": "code",
      "metadata": {
        "id": "UOzqd56zLYMy"
      },
      "source": [
        "learn.fine_tune??"
      ],
      "execution_count": null,
      "outputs": []
    },
    {
      "cell_type": "code",
      "metadata": {
        "id": "tfGDFmQwLYMy",
        "colab": {
          "base_uri": "https://localhost:8080/",
          "height": 174
        },
        "outputId": "b2a030d7-e16c-40f6-f928-8690675201a7"
      },
      "source": [
        "learn = cnn_learner(dls, resnet34, metrics=[accuracy, top_5, error_rate])\n",
        "learn.fit_one_cycle(4,1.6e-2)"
      ],
      "execution_count": null,
      "outputs": [
        {
          "output_type": "display_data",
          "data": {
            "text/html": [
              "<table border=\"1\" class=\"dataframe\">\n",
              "  <thead>\n",
              "    <tr style=\"text-align: left;\">\n",
              "      <th>epoch</th>\n",
              "      <th>train_loss</th>\n",
              "      <th>valid_loss</th>\n",
              "      <th>accuracy</th>\n",
              "      <th>top_k_accuracy</th>\n",
              "      <th>error_rate</th>\n",
              "      <th>time</th>\n",
              "    </tr>\n",
              "  </thead>\n",
              "  <tbody>\n",
              "    <tr>\n",
              "      <td>0</td>\n",
              "      <td>2.295191</td>\n",
              "      <td>5.750021</td>\n",
              "      <td>0.124481</td>\n",
              "      <td>0.390042</td>\n",
              "      <td>0.875519</td>\n",
              "      <td>00:14</td>\n",
              "    </tr>\n",
              "    <tr>\n",
              "      <td>1</td>\n",
              "      <td>1.809091</td>\n",
              "      <td>4.637758</td>\n",
              "      <td>0.257261</td>\n",
              "      <td>0.531120</td>\n",
              "      <td>0.742739</td>\n",
              "      <td>00:14</td>\n",
              "    </tr>\n",
              "    <tr>\n",
              "      <td>2</td>\n",
              "      <td>1.445109</td>\n",
              "      <td>3.551453</td>\n",
              "      <td>0.261411</td>\n",
              "      <td>0.659751</td>\n",
              "      <td>0.738589</td>\n",
              "      <td>00:14</td>\n",
              "    </tr>\n",
              "    <tr>\n",
              "      <td>3</td>\n",
              "      <td>1.046761</td>\n",
              "      <td>3.077347</td>\n",
              "      <td>0.290456</td>\n",
              "      <td>0.705394</td>\n",
              "      <td>0.709544</td>\n",
              "      <td>00:14</td>\n",
              "    </tr>\n",
              "  </tbody>\n",
              "</table>"
            ],
            "text/plain": [
              "<IPython.core.display.HTML object>"
            ]
          },
          "metadata": {
            "tags": []
          }
        }
      ]
    },
    {
      "cell_type": "markdown",
      "metadata": {
        "id": "3P7memVALYMy"
      },
      "source": [
        "Then unfreeze the model:"
      ]
    },
    {
      "cell_type": "code",
      "metadata": {
        "id": "8LW7leTLLYMy"
      },
      "source": [
        "learn.unfreeze()"
      ],
      "execution_count": null,
      "outputs": []
    },
    {
      "cell_type": "markdown",
      "metadata": {
        "id": "UtBQY0ypLYMy"
      },
      "source": [
        "and run `lr_find` again, because having more layers to train, and weights that have already been trained for three epochs, means our previously found learning rate isn't appropriate any more:"
      ]
    },
    {
      "cell_type": "code",
      "metadata": {
        "id": "w3jCLPL5LYMy",
        "colab": {
          "base_uri": "https://localhost:8080/",
          "height": 301
        },
        "outputId": "d91552ce-71df-4ba0-cc1d-e29189047f1a"
      },
      "source": [
        "learn.lr_find()"
      ],
      "execution_count": null,
      "outputs": [
        {
          "output_type": "display_data",
          "data": {
            "text/html": [
              ""
            ],
            "text/plain": [
              "<IPython.core.display.HTML object>"
            ]
          },
          "metadata": {
            "tags": []
          }
        },
        {
          "output_type": "execute_result",
          "data": {
            "text/plain": [
              "SuggestedLRs(lr_min=1.3182566908653825e-05, lr_steep=9.12010818865383e-07)"
            ]
          },
          "metadata": {
            "tags": []
          },
          "execution_count": 33
        },
        {
          "output_type": "display_data",
          "data": {
            "image/png": "[encoded data removed]",
            "text/plain": [
              "<Figure size 432x288 with 1 Axes>"
            ]
          },
          "metadata": {
            "tags": [],
            "needs_background": "light"
          }
        }
      ]
    },
    {
      "cell_type": "markdown",
      "metadata": {
        "id": "ovsC-8IzLYMy"
      },
      "source": [
        "Note that the graph is a little different from when we had random weights: we don't have that sharp descent that indicates the model is training. That's because our model has been trained already. Here we have a somewhat flat area before a sharp increase, and we should take a point well before that sharp increase—for instance, 1e-5. The point with the maximum gradient isn't what we look for here and should be ignored.\n"
      ]
    },
    {
      "cell_type": "code",
      "metadata": {
        "id": "JyAEXypTLYMz",
        "colab": {
          "base_uri": "https://localhost:8080/",
          "height": 237
        },
        "outputId": "8e9ef484-8f2e-45f1-bded-dc35081564b1"
      },
      "source": [
        "learn.fit_one_cycle(6, lr_max=1e-4)"
      ],
      "execution_count": null,
      "outputs": [
        {
          "output_type": "display_data",
          "data": {
            "text/html": [
              "<table border=\"1\" class=\"dataframe\">\n",
              "  <thead>\n",
              "    <tr style=\"text-align: left;\">\n",
              "      <th>epoch</th>\n",
              "      <th>train_loss</th>\n",
              "      <th>valid_loss</th>\n",
              "      <th>accuracy</th>\n",
              "      <th>top_k_accuracy</th>\n",
              "      <th>error_rate</th>\n",
              "      <th>time</th>\n",
              "    </tr>\n",
              "  </thead>\n",
              "  <tbody>\n",
              "    <tr>\n",
              "      <td>0</td>\n",
              "      <td>0.633020</td>\n",
              "      <td>2.751515</td>\n",
              "      <td>0.307054</td>\n",
              "      <td>0.721992</td>\n",
              "      <td>0.692946</td>\n",
              "      <td>00:15</td>\n",
              "    </tr>\n",
              "    <tr>\n",
              "      <td>1</td>\n",
              "      <td>0.601412</td>\n",
              "      <td>3.035705</td>\n",
              "      <td>0.307054</td>\n",
              "      <td>0.692946</td>\n",
              "      <td>0.692946</td>\n",
              "      <td>00:15</td>\n",
              "    </tr>\n",
              "    <tr>\n",
              "      <td>2</td>\n",
              "      <td>0.550786</td>\n",
              "      <td>3.260521</td>\n",
              "      <td>0.302905</td>\n",
              "      <td>0.701245</td>\n",
              "      <td>0.697095</td>\n",
              "      <td>00:14</td>\n",
              "    </tr>\n",
              "    <tr>\n",
              "      <td>3</td>\n",
              "      <td>0.455690</td>\n",
              "      <td>3.067943</td>\n",
              "      <td>0.344398</td>\n",
              "      <td>0.717842</td>\n",
              "      <td>0.655602</td>\n",
              "      <td>00:15</td>\n",
              "    </tr>\n",
              "    <tr>\n",
              "      <td>4</td>\n",
              "      <td>0.357677</td>\n",
              "      <td>3.160232</td>\n",
              "      <td>0.323651</td>\n",
              "      <td>0.684647</td>\n",
              "      <td>0.676349</td>\n",
              "      <td>00:15</td>\n",
              "    </tr>\n",
              "    <tr>\n",
              "      <td>5</td>\n",
              "      <td>0.286118</td>\n",
              "      <td>2.986864</td>\n",
              "      <td>0.348548</td>\n",
              "      <td>0.692946</td>\n",
              "      <td>0.651452</td>\n",
              "      <td>00:15</td>\n",
              "    </tr>\n",
              "  </tbody>\n",
              "</table>"
            ],
            "text/plain": [
              "<IPython.core.display.HTML object>"
            ]
          },
          "metadata": {
            "tags": []
          }
        }
      ]
    },
    {
      "cell_type": "markdown",
      "metadata": {
        "id": "HgK0TbcgLYMz"
      },
      "source": [
        "This has improved our model a bit.  But there's more we can do. "
      ]
    },
    {
      "cell_type": "markdown",
      "metadata": {
        "id": "D5wdZcnsLYMz"
      },
      "source": [
        "### Discriminative Learning Rates"
      ]
    },
    {
      "cell_type": "markdown",
      "metadata": {
        "id": "X2JoMLb7LYMz"
      },
      "source": [
        "The deepest layers of our pretrained model might not need as high a learning rate as the last ones, so we should probably use different learning rates for those—this is known as using *discriminative learning rates*.\n",
        "\n",
        "Even after we unfreeze, we still care a lot about the quality of the pretrained weights. We would not expect that the best learning rate for those pretrained parameters would be as high as for the randomly added parameters, even after we have tuned those randomly added parameters for a few epochs. Remember, the pretrained weights have been trained for hundreds of epochs, on millions of images.\n",
        "\n",
        "Recall that the first layer learns simple foundations, like edge and gradient detectors; these are likely to be just as useful for nearly any task. The later layers learn more complex concepts, like \"eye\" and \"sunset,\" which might not be useful. Thus, it makes sense to let the later layers fine-tune more quickly than earlier layers.\n",
        "\n",
        "Therefore, fastai's default approach is to use discriminative learning rates. This uses a lower learning rate for the early layers of the neural network, and a higher learning rate for the later layers (and especially the randomly added layers). "
      ]
    },
    {
      "cell_type": "markdown",
      "metadata": {
        "id": "iOiVc373LYMz"
      },
      "source": [
        "<img alt=\"Impact of different layers and training methods on transfer learning (Yosinski)\" width=\"680\" caption=\"Impact of different layers and training methods on transfer learning (courtesy of Jason Yosinski et al.)\" id=\"yosinski\" src=\"https://github.com/fastai/fastbook/blob/master/images/att_00039.png?raw=1\">"
      ]
    },
    {
      "cell_type": "markdown",
      "metadata": {
        "id": "wqSH7yBiLYMz"
      },
      "source": [
        "fastai lets you pass a Python `slice` object anywhere that a learning rate is expected. The first value passed will be the learning rate in the earliest layer of the neural network, and the second value will be the learning rate in the final layer. The layers in between will have learning rates that are multiplicatively equidistant throughout that range. \n",
        "\n",
        "Let's use this approach to replicate the previous training, but this time we'll only set the *lowest* layer of our net to a learning rate of 1e-6; the other layers will scale up to 1e-3. "
      ]
    },
    {
      "cell_type": "code",
      "metadata": {
        "id": "W0mx-hndLYMz",
        "colab": {
          "base_uri": "https://localhost:8080/",
          "height": 551
        },
        "outputId": "1631bed2-efcc-4662-b101-4f34390203b0"
      },
      "source": [
        "learn = cnn_learner(dls, resnet34, metrics=[accuracy, top_5, error_rate])\n",
        "learn.fit_one_cycle(3, 3e-3)\n",
        "learn.unfreeze()\n",
        "learn.fit_one_cycle(12, lr_max=slice(1e-6,1e-3))"
      ],
      "execution_count": null,
      "outputs": [
        {
          "output_type": "display_data",
          "data": {
            "text/html": [
              "<table border=\"1\" class=\"dataframe\">\n",
              "  <thead>\n",
              "    <tr style=\"text-align: left;\">\n",
              "      <th>epoch</th>\n",
              "      <th>train_loss</th>\n",
              "      <th>valid_loss</th>\n",
              "      <th>accuracy</th>\n",
              "      <th>top_k_accuracy</th>\n",
              "      <th>error_rate</th>\n",
              "      <th>time</th>\n",
              "    </tr>\n",
              "  </thead>\n",
              "  <tbody>\n",
              "    <tr>\n",
              "      <td>0</td>\n",
              "      <td>2.981385</td>\n",
              "      <td>2.057623</td>\n",
              "      <td>0.435685</td>\n",
              "      <td>0.800830</td>\n",
              "      <td>0.564315</td>\n",
              "      <td>00:14</td>\n",
              "    </tr>\n",
              "    <tr>\n",
              "      <td>1</td>\n",
              "      <td>1.667786</td>\n",
              "      <td>1.577359</td>\n",
              "      <td>0.518672</td>\n",
              "      <td>0.850622</td>\n",
              "      <td>0.481328</td>\n",
              "      <td>00:14</td>\n",
              "    </tr>\n",
              "    <tr>\n",
              "      <td>2</td>\n",
              "      <td>1.085323</td>\n",
              "      <td>1.564860</td>\n",
              "      <td>0.551867</td>\n",
              "      <td>0.834025</td>\n",
              "      <td>0.448133</td>\n",
              "      <td>00:14</td>\n",
              "    </tr>\n",
              "  </tbody>\n",
              "</table>"
            ],
            "text/plain": [
              "<IPython.core.display.HTML object>"
            ]
          },
          "metadata": {
            "tags": []
          }
        },
        {
          "output_type": "display_data",
          "data": {
            "text/html": [
              "<table border=\"1\" class=\"dataframe\">\n",
              "  <thead>\n",
              "    <tr style=\"text-align: left;\">\n",
              "      <th>epoch</th>\n",
              "      <th>train_loss</th>\n",
              "      <th>valid_loss</th>\n",
              "      <th>accuracy</th>\n",
              "      <th>top_k_accuracy</th>\n",
              "      <th>error_rate</th>\n",
              "      <th>time</th>\n",
              "    </tr>\n",
              "  </thead>\n",
              "  <tbody>\n",
              "    <tr>\n",
              "      <td>0</td>\n",
              "      <td>0.613354</td>\n",
              "      <td>1.652807</td>\n",
              "      <td>0.497925</td>\n",
              "      <td>0.825726</td>\n",
              "      <td>0.502075</td>\n",
              "      <td>00:15</td>\n",
              "    </tr>\n",
              "    <tr>\n",
              "      <td>1</td>\n",
              "      <td>0.572110</td>\n",
              "      <td>1.613780</td>\n",
              "      <td>0.506224</td>\n",
              "      <td>0.850622</td>\n",
              "      <td>0.493776</td>\n",
              "      <td>00:15</td>\n",
              "    </tr>\n",
              "    <tr>\n",
              "      <td>2</td>\n",
              "      <td>0.506016</td>\n",
              "      <td>1.619940</td>\n",
              "      <td>0.514523</td>\n",
              "      <td>0.887967</td>\n",
              "      <td>0.485477</td>\n",
              "      <td>00:15</td>\n",
              "    </tr>\n",
              "    <tr>\n",
              "      <td>3</td>\n",
              "      <td>0.432672</td>\n",
              "      <td>1.582885</td>\n",
              "      <td>0.539419</td>\n",
              "      <td>0.875519</td>\n",
              "      <td>0.460581</td>\n",
              "      <td>00:15</td>\n",
              "    </tr>\n",
              "    <tr>\n",
              "      <td>4</td>\n",
              "      <td>0.373414</td>\n",
              "      <td>1.651579</td>\n",
              "      <td>0.535270</td>\n",
              "      <td>0.896266</td>\n",
              "      <td>0.464730</td>\n",
              "      <td>00:15</td>\n",
              "    </tr>\n",
              "    <tr>\n",
              "      <td>5</td>\n",
              "      <td>0.305533</td>\n",
              "      <td>1.634835</td>\n",
              "      <td>0.593361</td>\n",
              "      <td>0.879668</td>\n",
              "      <td>0.406639</td>\n",
              "      <td>00:15</td>\n",
              "    </tr>\n",
              "    <tr>\n",
              "      <td>6</td>\n",
              "      <td>0.251292</td>\n",
              "      <td>1.563283</td>\n",
              "      <td>0.551867</td>\n",
              "      <td>0.879668</td>\n",
              "      <td>0.448133</td>\n",
              "      <td>00:15</td>\n",
              "    </tr>\n",
              "    <tr>\n",
              "      <td>7</td>\n",
              "      <td>0.215172</td>\n",
              "      <td>1.548194</td>\n",
              "      <td>0.543568</td>\n",
              "      <td>0.875519</td>\n",
              "      <td>0.456432</td>\n",
              "      <td>00:15</td>\n",
              "    </tr>\n",
              "    <tr>\n",
              "      <td>8</td>\n",
              "      <td>0.178577</td>\n",
              "      <td>1.540208</td>\n",
              "      <td>0.560166</td>\n",
              "      <td>0.883817</td>\n",
              "      <td>0.439834</td>\n",
              "      <td>00:15</td>\n",
              "    </tr>\n",
              "    <tr>\n",
              "      <td>9</td>\n",
              "      <td>0.153323</td>\n",
              "      <td>1.634385</td>\n",
              "      <td>0.539419</td>\n",
              "      <td>0.875519</td>\n",
              "      <td>0.460581</td>\n",
              "      <td>00:15</td>\n",
              "    </tr>\n",
              "    <tr>\n",
              "      <td>10</td>\n",
              "      <td>0.146151</td>\n",
              "      <td>1.478674</td>\n",
              "      <td>0.556017</td>\n",
              "      <td>0.892116</td>\n",
              "      <td>0.443983</td>\n",
              "      <td>00:15</td>\n",
              "    </tr>\n",
              "    <tr>\n",
              "      <td>11</td>\n",
              "      <td>0.127485</td>\n",
              "      <td>1.463340</td>\n",
              "      <td>0.564315</td>\n",
              "      <td>0.904564</td>\n",
              "      <td>0.435685</td>\n",
              "      <td>00:15</td>\n",
              "    </tr>\n",
              "  </tbody>\n",
              "</table>"
            ],
            "text/plain": [
              "<IPython.core.display.HTML object>"
            ]
          },
          "metadata": {
            "tags": []
          }
        }
      ]
    },
    {
      "cell_type": "markdown",
      "metadata": {
        "id": "islOOKq_LYM0"
      },
      "source": [
        "fastai can show us a graph of the training and validation loss:"
      ]
    },
    {
      "cell_type": "code",
      "metadata": {
        "id": "YUMKEmuQLYM0",
        "colab": {
          "base_uri": "https://localhost:8080/",
          "height": 265
        },
        "outputId": "82322d59-3031-4ef6-ccb7-1a9530c8b7d4"
      },
      "source": [
        "learn.recorder.plot_loss()"
      ],
      "execution_count": null,
      "outputs": [
        {
          "output_type": "display_data",
          "data": {
            "image/png": "[encoded data removed]",
            "text/plain": [
              "<Figure size 432x288 with 1 Axes>"
            ]
          },
          "metadata": {
            "tags": [],
            "needs_background": "light"
          }
        }
      ]
    },
    {
      "cell_type": "markdown",
      "metadata": {
        "id": "JrPDGHU3LYM0"
      },
      "source": [
        "As you can see, the training loss keeps getting better and better. But notice that eventually the validation loss improvement slows. This is the point at which the model is starting to over fit. \n",
        "\n",
        "Look at the table of training results per epoch, and you will often see that the accuracy continues improving, even as the validation loss gets worse. In the end what matters is accuracy, or more generally your chosen metrics, not the loss. The loss is just the function the computer uses to help us to optimize."
      ]
    },
    {
      "cell_type": "markdown",
      "metadata": {
        "id": "tp2iaUOLLYM0"
      },
      "source": [
        "Another decision you have to make when training the model is for how long to train for. "
      ]
    },
    {
      "cell_type": "markdown",
      "metadata": {
        "id": "k55AN-4BLYM0"
      },
      "source": [
        "### Selecting the Number of Epochs"
      ]
    },
    {
      "cell_type": "markdown",
      "metadata": {
        "id": "tvt_mS5oLYM0"
      },
      "source": [
        "Often researchers are limited by time, rather than generalization and accuracy, when choosing how many epochs to train for. So your first approach to training should be to simply pick a number of epochs that will train in the amount of time that you are happy to wait for. Then look at the training and validation loss plots, as shown above, and in particular your metrics, and if you see that they are still getting better even in your final epochs, then you know that you have not trained for too long.\n",
        "\n",
        "On the other hand, you may well see that the metrics you have chosen are really getting worse at the end of training. Remember, it's not just that we're looking for the validation loss to get worse, but the actual metrics. Your validation loss will first get worse during training because the model gets overconfident, and only later will get worse because it is incorrectly memorizing the data. We only care in practice about the latter issue. Remember, our loss function is just something that we use to allow our optimizer to have something it can differentiate and optimize; it's not actually the thing we care about in practice.\n",
        "\n",
        "Before the days of 1cycle training it was very common to save the model at the end of each epoch, and then select whichever model had the best accuracy out of all of the models saved in each epoch. This is known as *early stopping*. However, this is very unlikely to give you the best answer, because those epochs in the middle occur before the learning rate has had a chance to reach the small values, where it can really find the best result. Therefore, if you find that you have overfit, what you should actually do is retrain your model from scratch, and this time select a total number of epochs based on where your previous best results were found.\n",
        "\n",
        "If you have the time to train for more epochs, you may want to instead use that time to train more parameters—that is, use a deeper architecture."
      ]
    },
    {
      "cell_type": "markdown",
      "metadata": {
        "id": "jLcJLhVSLYM0"
      },
      "source": [
        "### Deeper Architectures"
      ]
    },
    {
      "cell_type": "markdown",
      "metadata": {
        "id": "LCCdr0E7LYM1"
      },
      "source": [
        "In general, a model with more parameters can model your data more accurately; a bigger model will better capture the real underlying relationships in the data, and also to capture and memorize the specific details of individual images.\n",
        "\n",
        "You can't really know ahead of time what the best architecture for your particular problem is—you need to try training some. \n",
        "\n",
        "Let's try a ResNet-50 now with mixed precision:"
      ]
    },
    {
      "cell_type": "code",
      "metadata": {
        "id": "8U3E4c9mLYM1",
        "colab": {
          "base_uri": "https://localhost:8080/",
          "height": 493,
          "referenced_widgets": [
            "f6c9b947fc0e4e36bf97cea09ea3fb5f",
            "ed863d8d70434e0196f6f4576c1d1e57",
            "db575f2620c94b1abf532cf044f18d1a",
            "8afa912e2b084badb0c7aa03a60e7c7b",
            "31b4f1a1969f46a481bf40a7194da59c",
            "799514ee421c427b9bc031beb73a1f5e",
            "af1097131f404009af9b5f557d64f721",
            "833390edb6304645805114f5409812ef"
          ]
        },
        "outputId": "9e924d19-e1dd-46ef-d7f6-19ee934533ff"
      },
      "source": [
        "from fastai.callback.fp16 import *\n",
        "#learn = cnn_learner(dls, resnet50, metrics=error_rate).to_fp16()\n",
        "learn = cnn_learner(dls, resnet50, metrics=[accuracy, top_5, error_rate]).to_fp16()\n",
        "learn.fine_tune(8, freeze_epochs=3)"
      ],
      "execution_count": null,
      "outputs": [
        {
          "output_type": "stream",
          "text": [
            "Downloading: \"https://download.pytorch.org/models/resnet50-19c8e357.pth\" to /root/.cache/torch/hub/checkpoints/resnet50-19c8e357.pth\n"
          ],
          "name": "stderr"
        },
        {
          "output_type": "display_data",
          "data": {
            "application/vnd.jupyter.widget-view+json": {
              "model_id": "f6c9b947fc0e4e36bf97cea09ea3fb5f",
              "version_minor": 0,
              "version_major": 2
            },
            "text/plain": [
              "HBox(children=(FloatProgress(value=0.0, max=102502400.0), HTML(value='')))"
            ]
          },
          "metadata": {
            "tags": []
          }
        },
        {
          "output_type": "stream",
          "text": [
            "\n"
          ],
          "name": "stdout"
        },
        {
          "output_type": "display_data",
          "data": {
            "text/html": [
              "<table border=\"1\" class=\"dataframe\">\n",
              "  <thead>\n",
              "    <tr style=\"text-align: left;\">\n",
              "      <th>epoch</th>\n",
              "      <th>train_loss</th>\n",
              "      <th>valid_loss</th>\n",
              "      <th>accuracy</th>\n",
              "      <th>top_k_accuracy</th>\n",
              "      <th>error_rate</th>\n",
              "      <th>time</th>\n",
              "    </tr>\n",
              "  </thead>\n",
              "  <tbody>\n",
              "    <tr>\n",
              "      <td>0</td>\n",
              "      <td>3.573040</td>\n",
              "      <td>2.362540</td>\n",
              "      <td>0.365145</td>\n",
              "      <td>0.672199</td>\n",
              "      <td>0.634855</td>\n",
              "      <td>00:15</td>\n",
              "    </tr>\n",
              "    <tr>\n",
              "      <td>1</td>\n",
              "      <td>1.988934</td>\n",
              "      <td>2.029950</td>\n",
              "      <td>0.477178</td>\n",
              "      <td>0.834025</td>\n",
              "      <td>0.522822</td>\n",
              "      <td>00:15</td>\n",
              "    </tr>\n",
              "    <tr>\n",
              "      <td>2</td>\n",
              "      <td>1.310044</td>\n",
              "      <td>1.826201</td>\n",
              "      <td>0.514523</td>\n",
              "      <td>0.821577</td>\n",
              "      <td>0.485477</td>\n",
              "      <td>00:15</td>\n",
              "    </tr>\n",
              "  </tbody>\n",
              "</table>"
            ],
            "text/plain": [
              "<IPython.core.display.HTML object>"
            ]
          },
          "metadata": {
            "tags": []
          }
        },
        {
          "output_type": "display_data",
          "data": {
            "text/html": [
              "<table border=\"1\" class=\"dataframe\">\n",
              "  <thead>\n",
              "    <tr style=\"text-align: left;\">\n",
              "      <th>epoch</th>\n",
              "      <th>train_loss</th>\n",
              "      <th>valid_loss</th>\n",
              "      <th>accuracy</th>\n",
              "      <th>top_k_accuracy</th>\n",
              "      <th>error_rate</th>\n",
              "      <th>time</th>\n",
              "    </tr>\n",
              "  </thead>\n",
              "  <tbody>\n",
              "    <tr>\n",
              "      <td>0</td>\n",
              "      <td>0.513200</td>\n",
              "      <td>1.718928</td>\n",
              "      <td>0.560166</td>\n",
              "      <td>0.842324</td>\n",
              "      <td>0.439834</td>\n",
              "      <td>00:17</td>\n",
              "    </tr>\n",
              "    <tr>\n",
              "      <td>1</td>\n",
              "      <td>0.441682</td>\n",
              "      <td>1.868297</td>\n",
              "      <td>0.518672</td>\n",
              "      <td>0.858921</td>\n",
              "      <td>0.481328</td>\n",
              "      <td>00:17</td>\n",
              "    </tr>\n",
              "    <tr>\n",
              "      <td>2</td>\n",
              "      <td>0.413523</td>\n",
              "      <td>2.097122</td>\n",
              "      <td>0.468880</td>\n",
              "      <td>0.846473</td>\n",
              "      <td>0.531120</td>\n",
              "      <td>00:17</td>\n",
              "    </tr>\n",
              "    <tr>\n",
              "      <td>3</td>\n",
              "      <td>0.351386</td>\n",
              "      <td>2.008633</td>\n",
              "      <td>0.551867</td>\n",
              "      <td>0.796681</td>\n",
              "      <td>0.448133</td>\n",
              "      <td>00:17</td>\n",
              "    </tr>\n",
              "    <tr>\n",
              "      <td>4</td>\n",
              "      <td>0.268237</td>\n",
              "      <td>1.983064</td>\n",
              "      <td>0.526971</td>\n",
              "      <td>0.825726</td>\n",
              "      <td>0.473029</td>\n",
              "      <td>00:17</td>\n",
              "    </tr>\n",
              "    <tr>\n",
              "      <td>5</td>\n",
              "      <td>0.206802</td>\n",
              "      <td>1.885126</td>\n",
              "      <td>0.506224</td>\n",
              "      <td>0.858921</td>\n",
              "      <td>0.493776</td>\n",
              "      <td>00:18</td>\n",
              "    </tr>\n",
              "    <tr>\n",
              "      <td>6</td>\n",
              "      <td>0.149448</td>\n",
              "      <td>1.792268</td>\n",
              "      <td>0.531120</td>\n",
              "      <td>0.871369</td>\n",
              "      <td>0.468880</td>\n",
              "      <td>00:18</td>\n",
              "    </tr>\n",
              "    <tr>\n",
              "      <td>7</td>\n",
              "      <td>0.112589</td>\n",
              "      <td>1.853361</td>\n",
              "      <td>0.514523</td>\n",
              "      <td>0.871369</td>\n",
              "      <td>0.485477</td>\n",
              "      <td>00:17</td>\n",
              "    </tr>\n",
              "  </tbody>\n",
              "</table>"
            ],
            "text/plain": [
              "<IPython.core.display.HTML object>"
            ]
          },
          "metadata": {
            "tags": []
          }
        }
      ]
    },
    {
      "cell_type": "markdown",
      "metadata": {
        "id": "RZeXg_rGLYM1"
      },
      "source": [
        "You'll see here we've gone back to using `fine_tune`, since it's so handy! We can pass `freeze_epochs` to tell fastai how many epochs to train for while frozen. It will automatically change learning rates appropriately for most datasets.\n",
        "\n",
        "In this case, we're not seeing a clear win from the deeper model. This is useful to remember—bigger models aren't necessarily better models for your particular case! Make sure you try small models before you start scaling up."
      ]
    }
  ]
}